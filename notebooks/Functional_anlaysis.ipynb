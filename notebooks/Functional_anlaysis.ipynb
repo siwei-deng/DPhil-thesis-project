{
 "cells": [
  {
   "cell_type": "markdown",
   "id": "547815da-b6aa-45f9-af05-5d4c280bd0e5",
   "metadata": {},
   "source": [
    "Ref: https://decoupler-py.readthedocs.io/en/latest/notebooks/pseudobulk.html"
   ]
  },
  {
   "cell_type": "markdown",
   "id": "6fb9cedd-cb17-492f-96fc-8d4dde34f894",
   "metadata": {},
   "source": [
    "# Environment"
   ]
  },
  {
   "cell_type": "code",
   "execution_count": 1,
   "id": "ae2f10ea-81bd-48b4-a10c-3cb38da53e20",
   "metadata": {},
   "outputs": [],
   "source": [
    "import pickle\n",
    "import scanpy as sc\n",
    "import matplotlib.pyplot as plt\n",
    "\n",
    "import decoupler as dc\n",
    "import omnipath as op\n",
    "import pickle\n",
    "\n",
    "import numpy as np\n",
    "import pandas as pd\n",
    "\n",
    "# Seeting R env\n",
    "import anndata2ri\n",
    "import logging\n",
    "import rpy2.robjects as ro\n",
    "\n",
    "ro.pandas2ri.activate()\n",
    "anndata2ri.activate()\n",
    "\n",
    "%load_ext rpy2.ipython"
   ]
  },
  {
   "cell_type": "code",
   "execution_count": 135,
   "id": "46a27873-50a0-4b90-b1e6-aaa9e1976b8d",
   "metadata": {},
   "outputs": [],
   "source": [
    "adata = ..."
   ]
  },
  {
   "cell_type": "markdown",
   "id": "6cf2a402-8c64-4fcc-bb50-5fb5087d9d19",
   "metadata": {},
   "source": [
    "# Generate Pseudo-bulk Profiles"
   ]
  },
  {
   "cell_type": "code",
   "execution_count": 3,
   "id": "16526a36-5066-4d75-a7a5-87d69a5be2a5",
   "metadata": {},
   "outputs": [
    {
     "data": {
      "text/plain": [
       "AnnData object with n_obs × n_vars = 10384 × 32285\n",
       "    obs: 'sample_id', 'size_factors', 'leiden_0.1', 'leiden_0.3', 'leiden_0.5', 'leiden_0.7', 'leiden_1', 'leiden_1.5', 'leiden_2', 'n_genes_by_counts', 'total_counts', 'total_counts_mt', 'pct_counts_mt', 'manual_celltype_annotation', 'manual_celltype_annotation_0.1', 'manual_celltype_annotation_0.5', 'cell_type', 'leiden_3'\n",
       "    var: 'highly_variable', 'means', 'dispersions', 'dispersions_norm', 'mt', 'n_cells_by_counts', 'mean_counts', 'pct_dropout_by_counts', 'total_counts', 'highly_variable_nbatches', 'highly_variable_intersection'\n",
       "    uns: 'dea_leiden_1', 'dea_leiden_1_filtered', 'dea_leiden_0.5', 'dea_leiden_0.5_filtered', 'dea_leiden_0.3', 'dea_leiden_0.3_filtered', 'dea_leiden_0.1', 'dea_leiden_0.1_filtered', 'dea_leiden_0.7', 'dea_leiden_0.7_filtered', 'dea_leiden_1.5', 'dea_leiden_1.5_filtered', 'dea_leiden_2', 'dea_leiden_2_filtered', 'leiden_2_colors', 'log1p', 'preprocessed', 'hvg', 'umap', 'neighbors', 'leiden', 'leiden_1_colors', 'manual_celltype_annotation_colors'\n",
       "    obsm: 'X_pca', 'X_umap', 'X_scVI', 'Harmony'\n",
       "    varm: 'PCs'\n",
       "    layers: 'counts', 'logcounts', 'log1p_norm', 'scran_normalization', 'analytic_pearson_residuals', 'normalized'\n",
       "    obsp: 'distances', 'connectivities'"
      ]
     },
     "execution_count": 3,
     "metadata": {},
     "output_type": "execute_result"
    }
   ],
   "source": [
    "adata"
   ]
  },
  {
   "cell_type": "code",
   "execution_count": 136,
   "id": "ee29432f-2f61-4e91-a0a8-f4633065fa66",
   "metadata": {},
   "outputs": [
    {
     "data": {
      "text/plain": [
       "AnnData object with n_obs × n_vars = 12 × 21339\n",
       "    obs: 'sample_id', 'manual_celltype_annotation', 'psbulk_n_cells', 'psbulk_counts'\n",
       "    var: 'highly_variable', 'means', 'dispersions', 'dispersions_norm', 'highly_variable_nbatches', 'highly_variable_intersection'\n",
       "    layers: 'psbulk_props'"
      ]
     },
     "execution_count": 136,
     "metadata": {},
     "output_type": "execute_result"
    }
   ],
   "source": [
    "# Get pseudo-bulk profile\n",
    "pdata = dc.get_pseudobulk(\n",
    "    adata,\n",
    "    sample_col='sample_id',\n",
    "    groups_col='manual_celltype_annotation',\n",
    "    layer='counts',\n",
    "    mode='sum',\n",
    "    min_cells=10,\n",
    "    min_counts=1000\n",
    ")\n",
    "pdata"
   ]
  },
  {
   "cell_type": "code",
   "execution_count": 137,
   "id": "8e9209ff-f2c3-4462-99d5-957b98d798bb",
   "metadata": {},
   "outputs": [
    {
     "data": {
      "text/html": [
       "<div>\n",
       "<style scoped>\n",
       "    .dataframe tbody tr th:only-of-type {\n",
       "        vertical-align: middle;\n",
       "    }\n",
       "\n",
       "    .dataframe tbody tr th {\n",
       "        vertical-align: top;\n",
       "    }\n",
       "\n",
       "    .dataframe thead th {\n",
       "        text-align: right;\n",
       "    }\n",
       "</style>\n",
       "<table border=\"1\" class=\"dataframe\">\n",
       "  <thead>\n",
       "    <tr style=\"text-align: right;\">\n",
       "      <th></th>\n",
       "      <th>sample_id</th>\n",
       "      <th>manual_celltype_annotation</th>\n",
       "      <th>psbulk_n_cells</th>\n",
       "      <th>psbulk_counts</th>\n",
       "    </tr>\n",
       "  </thead>\n",
       "  <tbody>\n",
       "    <tr>\n",
       "      <th>CD31_E99K-mouse_1_Endothelial cells</th>\n",
       "      <td>CD31_E99K-mouse_1</td>\n",
       "      <td>Endothelial cells</td>\n",
       "      <td>1388.0</td>\n",
       "      <td>6493450.0</td>\n",
       "    </tr>\n",
       "    <tr>\n",
       "      <th>CD31_E99K-mouse_2_Endothelial cells</th>\n",
       "      <td>CD31_E99K-mouse_2</td>\n",
       "      <td>Endothelial cells</td>\n",
       "      <td>3404.0</td>\n",
       "      <td>15127125.0</td>\n",
       "    </tr>\n",
       "    <tr>\n",
       "      <th>CD31_E99K-mouse_3_Endothelial cells</th>\n",
       "      <td>CD31_E99K-mouse_3</td>\n",
       "      <td>Endothelial cells</td>\n",
       "      <td>549.0</td>\n",
       "      <td>2457827.0</td>\n",
       "    </tr>\n",
       "    <tr>\n",
       "      <th>CD31_WT_filt-mouse_1_Endothelial cells</th>\n",
       "      <td>CD31_WT_filt-mouse_1</td>\n",
       "      <td>Endothelial cells</td>\n",
       "      <td>1568.0</td>\n",
       "      <td>5977439.0</td>\n",
       "    </tr>\n",
       "    <tr>\n",
       "      <th>CD31_WT_filt-mouse_2_Endothelial cells</th>\n",
       "      <td>CD31_WT_filt-mouse_2</td>\n",
       "      <td>Endothelial cells</td>\n",
       "      <td>2202.0</td>\n",
       "      <td>8868938.0</td>\n",
       "    </tr>\n",
       "    <tr>\n",
       "      <th>CD31_WT_filt-mouse_3_Endothelial cells</th>\n",
       "      <td>CD31_WT_filt-mouse_3</td>\n",
       "      <td>Endothelial cells</td>\n",
       "      <td>2021.0</td>\n",
       "      <td>7399635.0</td>\n",
       "    </tr>\n",
       "    <tr>\n",
       "      <th>CD31_E99K-mouse_1_Lymphatic endothelial cells</th>\n",
       "      <td>CD31_E99K-mouse_1</td>\n",
       "      <td>Lymphatic endothelial cells</td>\n",
       "      <td>32.0</td>\n",
       "      <td>215135.0</td>\n",
       "    </tr>\n",
       "    <tr>\n",
       "      <th>CD31_E99K-mouse_2_Lymphatic endothelial cells</th>\n",
       "      <td>CD31_E99K-mouse_2</td>\n",
       "      <td>Lymphatic endothelial cells</td>\n",
       "      <td>67.0</td>\n",
       "      <td>405397.0</td>\n",
       "    </tr>\n",
       "    <tr>\n",
       "      <th>CD31_E99K-mouse_3_Lymphatic endothelial cells</th>\n",
       "      <td>CD31_E99K-mouse_3</td>\n",
       "      <td>Lymphatic endothelial cells</td>\n",
       "      <td>15.0</td>\n",
       "      <td>94553.0</td>\n",
       "    </tr>\n",
       "    <tr>\n",
       "      <th>CD31_WT_filt-mouse_1_Lymphatic endothelial cells</th>\n",
       "      <td>CD31_WT_filt-mouse_1</td>\n",
       "      <td>Lymphatic endothelial cells</td>\n",
       "      <td>59.0</td>\n",
       "      <td>313705.0</td>\n",
       "    </tr>\n",
       "    <tr>\n",
       "      <th>CD31_WT_filt-mouse_2_Lymphatic endothelial cells</th>\n",
       "      <td>CD31_WT_filt-mouse_2</td>\n",
       "      <td>Lymphatic endothelial cells</td>\n",
       "      <td>436.0</td>\n",
       "      <td>2564961.0</td>\n",
       "    </tr>\n",
       "    <tr>\n",
       "      <th>CD31_WT_filt-mouse_3_Lymphatic endothelial cells</th>\n",
       "      <td>CD31_WT_filt-mouse_3</td>\n",
       "      <td>Lymphatic endothelial cells</td>\n",
       "      <td>228.0</td>\n",
       "      <td>1240773.0</td>\n",
       "    </tr>\n",
       "  </tbody>\n",
       "</table>\n",
       "</div>"
      ],
      "text/plain": [
       "                                                             sample_id  \\\n",
       "CD31_E99K-mouse_1_Endothelial cells                  CD31_E99K-mouse_1   \n",
       "CD31_E99K-mouse_2_Endothelial cells                  CD31_E99K-mouse_2   \n",
       "CD31_E99K-mouse_3_Endothelial cells                  CD31_E99K-mouse_3   \n",
       "CD31_WT_filt-mouse_1_Endothelial cells            CD31_WT_filt-mouse_1   \n",
       "CD31_WT_filt-mouse_2_Endothelial cells            CD31_WT_filt-mouse_2   \n",
       "CD31_WT_filt-mouse_3_Endothelial cells            CD31_WT_filt-mouse_3   \n",
       "CD31_E99K-mouse_1_Lymphatic endothelial cells        CD31_E99K-mouse_1   \n",
       "CD31_E99K-mouse_2_Lymphatic endothelial cells        CD31_E99K-mouse_2   \n",
       "CD31_E99K-mouse_3_Lymphatic endothelial cells        CD31_E99K-mouse_3   \n",
       "CD31_WT_filt-mouse_1_Lymphatic endothelial cells  CD31_WT_filt-mouse_1   \n",
       "CD31_WT_filt-mouse_2_Lymphatic endothelial cells  CD31_WT_filt-mouse_2   \n",
       "CD31_WT_filt-mouse_3_Lymphatic endothelial cells  CD31_WT_filt-mouse_3   \n",
       "\n",
       "                                                   manual_celltype_annotation  \\\n",
       "CD31_E99K-mouse_1_Endothelial cells                         Endothelial cells   \n",
       "CD31_E99K-mouse_2_Endothelial cells                         Endothelial cells   \n",
       "CD31_E99K-mouse_3_Endothelial cells                         Endothelial cells   \n",
       "CD31_WT_filt-mouse_1_Endothelial cells                      Endothelial cells   \n",
       "CD31_WT_filt-mouse_2_Endothelial cells                      Endothelial cells   \n",
       "CD31_WT_filt-mouse_3_Endothelial cells                      Endothelial cells   \n",
       "CD31_E99K-mouse_1_Lymphatic endothelial cells     Lymphatic endothelial cells   \n",
       "CD31_E99K-mouse_2_Lymphatic endothelial cells     Lymphatic endothelial cells   \n",
       "CD31_E99K-mouse_3_Lymphatic endothelial cells     Lymphatic endothelial cells   \n",
       "CD31_WT_filt-mouse_1_Lymphatic endothelial cells  Lymphatic endothelial cells   \n",
       "CD31_WT_filt-mouse_2_Lymphatic endothelial cells  Lymphatic endothelial cells   \n",
       "CD31_WT_filt-mouse_3_Lymphatic endothelial cells  Lymphatic endothelial cells   \n",
       "\n",
       "                                                  psbulk_n_cells  \\\n",
       "CD31_E99K-mouse_1_Endothelial cells                       1388.0   \n",
       "CD31_E99K-mouse_2_Endothelial cells                       3404.0   \n",
       "CD31_E99K-mouse_3_Endothelial cells                        549.0   \n",
       "CD31_WT_filt-mouse_1_Endothelial cells                    1568.0   \n",
       "CD31_WT_filt-mouse_2_Endothelial cells                    2202.0   \n",
       "CD31_WT_filt-mouse_3_Endothelial cells                    2021.0   \n",
       "CD31_E99K-mouse_1_Lymphatic endothelial cells               32.0   \n",
       "CD31_E99K-mouse_2_Lymphatic endothelial cells               67.0   \n",
       "CD31_E99K-mouse_3_Lymphatic endothelial cells               15.0   \n",
       "CD31_WT_filt-mouse_1_Lymphatic endothelial cells            59.0   \n",
       "CD31_WT_filt-mouse_2_Lymphatic endothelial cells           436.0   \n",
       "CD31_WT_filt-mouse_3_Lymphatic endothelial cells           228.0   \n",
       "\n",
       "                                                  psbulk_counts  \n",
       "CD31_E99K-mouse_1_Endothelial cells                   6493450.0  \n",
       "CD31_E99K-mouse_2_Endothelial cells                  15127125.0  \n",
       "CD31_E99K-mouse_3_Endothelial cells                   2457827.0  \n",
       "CD31_WT_filt-mouse_1_Endothelial cells                5977439.0  \n",
       "CD31_WT_filt-mouse_2_Endothelial cells                8868938.0  \n",
       "CD31_WT_filt-mouse_3_Endothelial cells                7399635.0  \n",
       "CD31_E99K-mouse_1_Lymphatic endothelial cells          215135.0  \n",
       "CD31_E99K-mouse_2_Lymphatic endothelial cells          405397.0  \n",
       "CD31_E99K-mouse_3_Lymphatic endothelial cells           94553.0  \n",
       "CD31_WT_filt-mouse_1_Lymphatic endothelial cells       313705.0  \n",
       "CD31_WT_filt-mouse_2_Lymphatic endothelial cells      2564961.0  \n",
       "CD31_WT_filt-mouse_3_Lymphatic endothelial cells      1240773.0  "
      ]
     },
     "execution_count": 137,
     "metadata": {},
     "output_type": "execute_result"
    }
   ],
   "source": [
    "pdata.obs"
   ]
  },
  {
   "cell_type": "markdown",
   "id": "fa2cddad-f10d-4a28-9182-acbb4ff7f0f8",
   "metadata": {},
   "source": [
    "# Contrast between conditions"
   ]
  },
  {
   "cell_type": "code",
   "execution_count": 144,
   "id": "005715dc-817e-485a-afad-85d84969b851",
   "metadata": {},
   "outputs": [
    {
     "data": {
      "text/plain": [
       "['Endothelial cells', 'Lymphatic endothelial cells']"
      ]
     },
     "execution_count": 144,
     "metadata": {},
     "output_type": "execute_result"
    }
   ],
   "source": [
    "# # Check what samples are included\n",
    "# list(pdata.obs['sample_id'].unique())\n",
    "list(pdata.obs['manual_celltype_annotation'].unique())"
   ]
  },
  {
   "cell_type": "code",
   "execution_count": 145,
   "id": "33bb836e-40ff-4245-b205-6cf3b6e00f80",
   "metadata": {},
   "outputs": [],
   "source": [
    "# Prepare data in R\n",
    "ro.globalenv[\"combined_data\"] = pdata.X.T\n",
    "ro.globalenv[\"gene_names\"] = pdata.var.index\n",
    "ro.globalenv[\"coldata\"] = pdata.obs\n",
    "ro.globalenv[\"cell_type\"] = 'Endothelial cells'\n",
    "overall_dir = f'Endothelial_cells'"
   ]
  },
  {
   "cell_type": "code",
   "execution_count": 8,
   "id": "99e3d508-c8b0-4a93-9754-624b56282536",
   "metadata": {},
   "outputs": [],
   "source": [
    "%%R\n",
    "suppressMessages(library(AnnotationDbi, quietly = TRUE))\n",
    "suppressMessages(library(org.Mm.eg.db, quietly = TRUE))\n",
    "suppressMessages(library(org.Hs.eg.db, quietly = TRUE))\n",
    "suppressMessages(library(PCAtools, quietly = TRUE))\n",
    "suppressMessages(library(DESeq2, quietly = TRUE))\n",
    "suppressMessages(library(ggplot2, quietly = TRUE))"
   ]
  },
  {
   "cell_type": "code",
   "execution_count": 146,
   "id": "bee8d7e4",
   "metadata": {},
   "outputs": [
    {
     "name": "stdout",
     "output_type": "stream",
     "text": [
      "[1] TRUE\n"
     ]
    }
   ],
   "source": [
    "%%R\n",
    "rownames(combined_data) <- gene_names\n",
    "colnames(combined_data) <- rownames(coldata)\n",
    "\n",
    "# choose the desired cell type\n",
    "combined_data <- as.matrix(combined_data)\n",
    "storage.mode(combined_data) <- 'integer'\n",
    "\n",
    "combined_df_target <- combined_data[, coldata$manual_celltype_annotation %in% c(cell_type)]\n",
    "coldata_target <- coldata[coldata$manual_celltype_annotation %in% c(cell_type), ]\n",
    "\n",
    "# Make sure the row names of metadata and col names of expression mat are the same\n",
    "identical(colnames(combined_df_target), rownames(coldata_target))"
   ]
  },
  {
   "cell_type": "code",
   "execution_count": 147,
   "id": "f108484e-4e63-4daa-8890-95625fe9e48b",
   "metadata": {},
   "outputs": [
    {
     "name": "stdout",
     "output_type": "stream",
     "text": [
      "[1] \"E99K\" \"E99K\" \"E99K\" \"WT\"   \"WT\"   \"WT\"  \n"
     ]
    }
   ],
   "source": [
    "%%R\n",
    "# Check if there are sufficient samples for comparison\n",
    "coldata_target$condition"
   ]
  },
  {
   "cell_type": "code",
   "execution_count": 148,
   "id": "713aa46b-2768-4fac-b33c-b337643ee8b0",
   "metadata": {},
   "outputs": [],
   "source": [
    "%%R\n",
    "coldata_target$manual_celltype_annotation <- as.factor(coldata_target$manual_celltype_annotation)\n",
    "\n",
    "coldata_target$condition <- as.factor(coldata_target$condition)\n",
    "coldata_target$condition <- relevel(coldata_target$condition, ref=\"WT\")\n",
    "\n",
    "# cont variables need to be numeric\n",
    "coldata_target$age <- as.numeric(coldata_target$age)"
   ]
  },
  {
   "cell_type": "code",
   "execution_count": 149,
   "id": "b98297fb-6b87-4018-b4d2-93210e0e44ff",
   "metadata": {},
   "outputs": [
    {
     "data": {
      "text/plain": [
       "estimating size factors\n",
       "estimating dispersions\n",
       "gene-wise dispersion estimates\n",
       "mean-dispersion relationship\n",
       "final dispersion estimates\n",
       "fitting model and testing\n"
      ]
     },
     "metadata": {},
     "output_type": "display_data"
    }
   ],
   "source": [
    "%%R\n",
    "# design = ~ condition + batch + batch + ... + condition:cont_var\n",
    "dds <- DESeqDataSetFromMatrix(countData = combined_df_target,\n",
    "                              colData = coldata_target,\n",
    "                              design = ~ condition + condition:cont_var)\n",
    "dds <- DESeq(dds)"
   ]
  },
  {
   "cell_type": "code",
   "execution_count": 150,
   "id": "b01cc2a6-7951-4bc9-8442-c4b0a1374953",
   "metadata": {},
   "outputs": [],
   "source": [
    "%%R\n",
    "# Extract normalized counts\n",
    "norm_counts <- counts(dds, normalized = TRUE)\n",
    "\n",
    "# adjust batch effect\n",
    "norm_counts_batch_corrected <- norm_counts\n",
    "norm_counts_batch_corrected <- \n",
    "  limma::removeBatchEffect(norm_counts, \n",
    "                           design = model.matrix(~ Condition, data = coldata_target))\n",
    "norm_counts_batch_corrected <- as.data.frame(norm_counts_batch_corrected)\n",
    "norm_counts_batch_corrected <- cbind(gene_names = rownames(norm_counts_batch_corrected), norm_counts_batch_corrected)"
   ]
  },
  {
   "cell_type": "code",
   "execution_count": 152,
   "id": "fad92957-c5e4-40a1-811b-650b6aa4a19e",
   "metadata": {},
   "outputs": [],
   "source": [
    "%%R\n",
    "condition <- \"condition\"\n",
    "tret <- \"E99K\"\n",
    "ctrl <- \"WT\"\n",
    "res <- results(dds, contrast = c(condition, tret, ctrl))\n",
    "res <- na.omit(res)\n",
    "top.table <- tibble::as_tibble(res)\n",
    "top.table$gene_names <- rownames(res)\n",
    "top.table <- na.omit(top.table)\n",
    "top.table <- top.table[order(top.table$padj), ]"
   ]
  },
  {
   "cell_type": "markdown",
   "id": "85a49bb3-4ef0-4cae-b610-c9afd5beb77a",
   "metadata": {},
   "source": [
    "# Transcription factor activity inference"
   ]
  },
  {
   "cell_type": "code",
   "execution_count": 153,
   "id": "de457096-4f21-4edb-8fc3-a49cc4396a5a",
   "metadata": {},
   "outputs": [],
   "source": [
    "tret = 'E99K'\n",
    "ctrl = 'WT'\n",
    "\n",
    "# Constructing the file name\n",
    "file_name = f'top.table.{tret}_vs_{ctrl}_all.tsv'\n",
    "\n",
    "# Reading the TSV file\n",
    "df = pd.read_csv(file_name, sep='\\t')\n",
    "\n",
    "# Creating a new DataFrame with 'gene_names' as columns and 'stat' as values\n",
    "mat = pd.DataFrame([df['stat'].values], columns=df['gene_names'].values, index=['stat'])\n",
    "\n",
    "# Infer pathway activities with ulm\n",
    "tf_acts, tf_pvals = dc.run_ulm(mat=mat, net=collectri)\n",
    "\n",
    "with open('tf_acts.pkl', 'wb') as handle:\n",
    "    pickle.dump(tf_acts, handle, protocol=pickle.HIGHEST_PROTOCOL)\n",
    "\n",
    "with open('tf_pvals.pkl', 'wb') as handle:\n",
    "    pickle.dump(tf_pvals, handle, protocol=pickle.HIGHEST_PROTOCOL)\n",
    "\n",
    "df = pd.concat([tf_acts, tf_pvals], \n",
    "              keys=['tf_acts', 'tf_pvals'], \n",
    "              axis=0)\n",
    "\n",
    "df = df.T\n",
    "df.columns = ['tf_acts', 'tf_pvals']\n",
    "\n",
    "df = df.sort_values('tf_acts')\n",
    "df.insert(0, 'geneName', df.index)\n",
    "\n",
    "df.to_csv('results_tf_activity.tsv', sep='\\t', index=False) \n",
    "df.to_excel('results_tf_activity.xlsx', index=False)"
   ]
  }
 ],
 "metadata": {
  "kernelspec": {
   "display_name": "Python 3 (ipykernel)",
   "language": "python",
   "name": "python3"
  },
  "language_info": {
   "codemirror_mode": {
    "name": "ipython",
    "version": 3
   },
   "file_extension": ".py",
   "mimetype": "text/x-python",
   "name": "python",
   "nbconvert_exporter": "python",
   "pygments_lexer": "ipython3",
   "version": "3.10.4"
  }
 },
 "nbformat": 4,
 "nbformat_minor": 5
}
