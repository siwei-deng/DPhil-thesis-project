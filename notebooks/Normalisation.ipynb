{
 "cells": [
  {
   "cell_type": "code",
   "execution_count": 1,
   "id": "b979eaf1-329d-49b6-8b6e-64d1edc3aae8",
   "metadata": {},
   "outputs": [],
   "source": [
    "import scanpy as sc"
   ]
  },
  {
   "cell_type": "code",
   "execution_count": null,
   "id": "c741ac5f-53c7-43d9-b9bb-1a24b57599bf",
   "metadata": {},
   "outputs": [],
   "source": [
    "adata = sc.read_h5ad('obj_all.h5ad')"
   ]
  },
  {
   "cell_type": "code",
   "execution_count": 5,
   "id": "5dfe2c83-cedd-4e0c-8019-9c0738c16302",
   "metadata": {},
   "outputs": [],
   "source": [
    "adata = adata.copy()\n",
    "adata.X = adata.layers[\"counts\"]\n",
    "scales_counts = sc.pp.normalize_total(adata, target_sum=None, inplace=False)\n",
    "adata.layers[\"logcounts\"] = sc.pp.log1p(scales_counts[\"X\"], copy=True)"
   ]
  }
 ],
 "metadata": {
  "kernelspec": {
   "display_name": "Python 3 (ipykernel)",
   "language": "python",
   "name": "python3"
  },
  "language_info": {
   "codemirror_mode": {
    "name": "ipython",
    "version": 3
   },
   "file_extension": ".py",
   "mimetype": "text/x-python",
   "name": "python",
   "nbconvert_exporter": "python",
   "pygments_lexer": "ipython3",
   "version": "3.10.4"
  }
 },
 "nbformat": 4,
 "nbformat_minor": 5
}
