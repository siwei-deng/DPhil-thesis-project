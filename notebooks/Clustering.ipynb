{
 "cells": [
  {
   "cell_type": "code",
   "execution_count": 1,
   "id": "e3a07603-c86a-45a8-b21b-573ac59a0a6b",
   "metadata": {},
   "outputs": [],
   "source": [
    "import numba\n",
    "import scanpy as sc\n",
    "import pandas as pd\n",
    "import numpy as np\n",
    "import matplotlib.pyplot as plt\n",
    "\n",
    "from pathlib import Path # creating dir"
   ]
  },
  {
   "cell_type": "code",
   "execution_count": 2,
   "id": "42df4d5a-e338-4a5f-a8ab-94db6b5c4769",
   "metadata": {},
   "outputs": [],
   "source": [
    "adata = ..."
   ]
  },
  {
   "cell_type": "markdown",
   "id": "ccc00b4b-ef4c-4e9d-8570-f6c09cbcb853",
   "metadata": {},
   "source": [
    "# Clustering"
   ]
  },
  {
   "cell_type": "code",
   "execution_count": 3,
   "id": "9d4ad5e6-b781-4c1d-a5fc-7f73bc554fd2",
   "metadata": {},
   "outputs": [
    {
     "name": "stderr",
     "output_type": "stream",
     "text": [
      "2024-10-22 22:57:39.883010: E external/local_xla/xla/stream_executor/cuda/cuda_fft.cc:485] Unable to register cuFFT factory: Attempting to register factory for plugin cuFFT when one has already been registered\n",
      "2024-10-22 22:57:40.361137: E external/local_xla/xla/stream_executor/cuda/cuda_dnn.cc:8454] Unable to register cuDNN factory: Attempting to register factory for plugin cuDNN when one has already been registered\n",
      "2024-10-22 22:57:40.542075: E external/local_xla/xla/stream_executor/cuda/cuda_blas.cc:1452] Unable to register cuBLAS factory: Attempting to register factory for plugin cuBLAS when one has already been registered\n",
      "2024-10-22 22:57:41.487896: I tensorflow/core/platform/cpu_feature_guard.cc:210] This TensorFlow binary is optimized to use available CPU instructions in performance-critical operations.\n",
      "To enable the following instructions: AVX2 AVX512F FMA, in other operations, rebuild TensorFlow with the appropriate compiler flags.\n",
      "2024-10-22 22:57:59.298051: W tensorflow/compiler/tf2tensorrt/utils/py_utils.cc:38] TF-TRT Warning: Could not find TensorRT\n"
     ]
    }
   ],
   "source": [
    "adata.X = adata.layers[\"logcounts\"]\n",
    "obs_key = \"Harmony\"\n",
    "sc.pp.neighbors(adata, use_rep=obs_key)"
   ]
  },
  {
   "cell_type": "code",
   "execution_count": 4,
   "id": "77a4b2dc-94bf-4793-9a0b-698fb82ef9c1",
   "metadata": {},
   "outputs": [],
   "source": [
    "resolutions = [0.1, 0.3, 0.5, 0.7, 1, 1.5, 2, 3]\n",
    "\n",
    "for resolution in resolutions:\n",
    "    key_added = f\"leiden_{resolution}\"\n",
    "    sc.tl.leiden(adata, resolution=resolution, key_added=key_added, flavor='igraph', n_iterations=-1)"
   ]
  },
  {
   "cell_type": "code",
   "execution_count": null,
   "id": "ece882fd-8fb5-42da-be1b-517ac9e3f832",
   "metadata": {},
   "outputs": [],
   "source": [
    "leiden_groups = [\"leiden_1\", \"leiden_0.5\", \"leiden_0.3\", \"leiden_0.1\", \"leiden_0.7\", \"leiden_1.5\", \"leiden_2\", \"leiden_3\"]\n",
    "\n",
    "dir_name = 'Anno-All'\n",
    "\n",
    "adata.X = adata.layers['logcounts']\n",
    "for group in leiden_groups:\n",
    "    key_added = f\"dea_{group}\"\n",
    "    key_added_filtered = f\"{key_added}_filtered\"\n",
    "\n",
    "    sc.tl.rank_genes_groups(\n",
    "        adata, groupby=group, method=\"wilcoxon\", key_added=key_added\n",
    "    )\n",
    "    sc.tl.filter_rank_genes_groups(\n",
    "        adata,\n",
    "        key=key_added,\n",
    "        key_added=key_added_filtered,\n",
    "    )\n",
    "    df = sc.get.rank_genes_groups_df(adata, group=None, \n",
    "                                     key=key_added_filtered, \n",
    "                                     pval_cutoff=0.05)\n",
    "    df = df.dropna(subset=['names'])\n",
    "    \n",
    "    Path(dir_name).mkdir(parents=True, exist_ok=True)\n",
    "    df.to_excel(f'{dir_name}/{key_added_filtered}.xlsx', index=False)"
   ]
  }
 ],
 "metadata": {
  "kernelspec": {
   "display_name": "Python 3 (ipykernel)",
   "language": "python",
   "name": "python3"
  },
  "language_info": {
   "codemirror_mode": {
    "name": "ipython",
    "version": 3
   },
   "file_extension": ".py",
   "mimetype": "text/x-python",
   "name": "python",
   "nbconvert_exporter": "python",
   "pygments_lexer": "ipython3",
   "version": "3.10.4"
  }
 },
 "nbformat": 4,
 "nbformat_minor": 5
}
